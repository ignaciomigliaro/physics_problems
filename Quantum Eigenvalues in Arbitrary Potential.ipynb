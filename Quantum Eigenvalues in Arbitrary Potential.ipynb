{
 "cells": [
  {
   "cell_type": "markdown",
   "metadata": {},
   "source": [
    "##  Problem: Quantum Eigenvalues in Arbitrary Potential<a id=\"9.1\"></a>\n",
    "\n",
    "Quantum mechanics describes phenomena that occur on atomic or subatomic\n",
    "scales (an elementary particle is subatomic). It is a statistical theory in which the\n",
    "probability that a particle is located in a region *dx* around the point *x* is\n",
    "${\\cal P} = |\\psi(x)|^2 dx$, where *ψ*(*x*) is called the *wave function*. If a\n",
    "particle of definite energy *E* moving in one dimension experiences a potential\n",
    "*V*(*x*), its wave function is determined by an ordinary differential equation (a\n",
    "partial differential equation for more than one dimension) known as the\n",
    "time-independent Schrödinger equation:\n",
    "\n",
    "$$\\tag*{9.1}\n",
    "\\frac{-\\hbar^2} {2m} \\frac{d^2\\psi(x)}{dx^2} + V(x) \\psi(x)\n",
    "= E \\psi(x).$$\n",
    "\n",
    "Although we say we are solving for the energy *E*, in practice we solve\n",
    "for the wave vector *κ*, where the two are related for bound states by:\n",
    "\n",
    "$$\\tag*{9.2}\n",
    "\\kappa^2 = -\\frac{2m}{\\hbar^2}E  =  \\frac{2m}{\\hbar^2}|E| .$$\n",
    "\n",
    "The Schrödinger equation now takes the form\n",
    "\n",
    "$$ \\frac{d^2\\psi(x)}{dx^2}  -  \\frac{2m}{\\hbar^2} V(x) \\psi(x) = \\kappa^2 \\psi(x).\\tag*{9.3}$$\n",
    "\n",
    "When our problem tells us that the particle is bound, this means that it\n",
    "is confined to some finite region of space, which implies that *ψ*(*x*)\n",
    "is normalizeable. The only way for that to happen is if *ψ*(*x*) decay\n",
    "exponentially as *x* → ±∞ (where the potential vanishes):\n",
    "\n",
    "$$\\tag*{9.4}\n",
    "\\psi(x) \\rightarrow\\begin{cases}\n",
    "     e^{-\\kappa x}, & \\mbox{for }\\       x\\rightarrow +\\infty,\\\\\n",
    "     e^{+\\kappa x}, & \\mbox{for }\\              x\\rightarrow -\\infty.\n",
    "     \\end{cases}$$\n",
    "\n",
    "In summary, we must also require that the\n",
    "solution *ψ*(*x*) simultaneously satisfies the boundary conditions\n",
    "(9.4). This extra condition turns the ODE problem into an *eigenvalue\n",
    "problem* that has solutions (*eigenvalues*) for only certain values of\n",
    "the energy *E* or equivalently *κ*. The ground-state energy corresponds\n",
    "to the smallest (most negative) eigenvalue. The ground-state wave\n",
    "function (eigenfunction), which we must determine in order to find its\n",
    "energy, must be nodeless and even (symmetric) about *x* = 0. The excited\n",
    "states have higher (less negative) energies and wave functions that may\n",
    "be odd (antisymmetric). We will solve the eigenvalue problem for the Schroedinger equation above using linear algebra via discretization of the functions on a real space one-dimensional grid.\n",
    "\n",
    "NOTE: this is equivalent to defining a \"basis set\" for the representation of the potentials and wavefunctions that is comprised of the points on the linear axis of position in 1 dimension (see Fig. 9.2) and discussion below.\n",
    "\n",
    "###  Model: Nucleon in a Box<a id=\"9.1.1\"></a>\n",
    "\n",
    "The numerical methods we describe are capable of handling the most\n",
    "realistic potential shapes. Yet to make a connection with the standard\n",
    "textbook case and to permit some analytic checking, we will use a simple\n",
    "model in which the potential *V*(*x*) in (9.1) is a finite square well\n",
    "(Figure 9.1):\n",
    "\n",
    "$$\\tag*{9.5} V(x) =\\begin{cases}\n",
    " -V_0 = -83 \\mbox{MeV}, & \\mbox{for }\\ |x|\\leq a= 2 \\mbox{fm},\\\\\n",
    "    0, & \\mbox{for } \\   |x| \\gt a=  2 \\mbox{fm},\\end{cases}$$\n",
    "\n",
    "where values of 83 MeV for the depth and 2 fm for the radius are typical for\n",
    "nuclei (these are the units in which we solve the problem). \n",
    " \n",
    "To evaluate the ratio of constants here, we insert *c*<sup>2</sup>, the\n",
    "speed of light squared, into both the numerator and the denominator and\n",
    "then we obtain these familiar values:\n",
    "\n",
    "$$\\tag*{9.8}\n",
    "\\frac{2m}{\\hbar^2} = \\frac{2mc^2}{(\\hbar c)^2} \\simeq\n",
    "\\frac{2\\times 940 \\mbox{MeV}}{(197.32 \\mbox{MeV fm})^2} =\n",
    "0.0483 \\mbox{MeV}^{-1}\\ \\mbox{fm}^{-2}.$$\n",
    "\n",
    "![image](Figs/Fig9_1.png)\n",
    "\n",
    " **Figure 9.1** Computed wave function and the\n",
    "square-well potential (bold lines) obtained with a integrator algorithm for ODEs."
   ]
  },
  {
   "cell_type": "markdown",
   "metadata": {},
   "source": [
    "### Algorithm: function discretization in real space"
   ]
  },
  {
   "cell_type": "markdown",
   "metadata": {},
   "source": [
    "![image](Figs/Fig-grid.png)\n",
    "\n",
    " **Figure 9.2** grid discretization for the numerical solution of the Shroedinger equation in real space. Eq. 9.1 has to be satisfied at every grid point."
   ]
  },
  {
   "cell_type": "markdown",
   "metadata": {},
   "source": [
    "**Expansion of a function in a basis set**\n",
    "Our approach to the solution of this problem is based on the idea of discrete representation of the Schroedinger equation on a one-dimentional grid of points in real space. In practice, we discretize any function $f(x) = \\sum_i c_i \\hat{\\bf i}$ for $x_{i+1}-x_i = dx$ and $dx$ arbitrarily small. Here $\\hat{\\bf i}$ are the basis vectors of the N-dimensional space of real space points:\n",
    "\n",
    "$$ \\begin{pmatrix}\n",
    "1 0 0 0 0 0 0 0 \\cdots 0 0 0\\\\\n",
    "0 1 0 0 0 0 0 0 \\cdots 0 0 0\\\\\n",
    "\\ddots\\\\\n",
    "0 0 0 0 0 0 0 0 \\cdots 0 1 0\\\\\n",
    "0 0 0 0 0 0 0 0 \\cdots 0 0 1\n",
    "\\end{pmatrix} $$\n",
    "\n",
    "In practice it is an identity matrix of dimension NxN.\n",
    "\n",
    "Let's rewrite eq. 9.1 as an eigenvalue problem:\n",
    "\n",
    "$$ [H(x) - \\epsilon]~\\psi(x) = 0 $$ where $$H(x) = \\frac{-\\hbar^2} {2m} \\frac{d^2}{dx^2} + V(x) $$\n",
    "\n",
    "and then cast it in matrix form using the representation above."
   ]
  },
  {
   "cell_type": "markdown",
   "metadata": {},
   "source": [
    "**the $V(x)$ potential** $V(x)$ is a local function, that is, it depends only on the position $x_i$ for each $i$. That means that in matrix form, its components are different from zero only on the matrix diagonal:\n",
    "$$ V(x) = {\\bf V} \\mathbb{1}, ~{\\rm with} ~{\\bf V}=\\{V_{x_0}, V_{x_1}, V_{x_2}, \\cdots,V_{x_N}\\}$$\n",
    "\n",
    "**the $\\frac{d^2}{dx^2}$ operator** is a non-local function, since it requires, in the typical finite difference approximation, the knowledge of the function at i, i-1 and i+1 (in the third order formula) of more (for higher order formulas). In practice, \n",
    "\n",
    "$$\\begin{align}\\frac{d^2 f}{dx^2} & \\simeq \n",
    "\\frac{f(x_i+dx) + f(x_i-dx) - 2f(x_i)}{dx^{2}} = \\frac{f(x_{i+1}) + f(x_{i-1}) - 2f(x_i)}{dx^{2}}\\end{align} $$\n",
    "\n",
    "for every i.\n",
    "\n",
    "In matrix form, this is tridiagonal matrix (matrix that has elements different from zero only on the diagonal and the two adjacent sub- and super-diagonal):\n",
    "\n",
    "$$\\begin{align} \\begin{pmatrix}\n",
    "\\frac{-2}{dx^2} & \\frac{1}{dx^2} & 0 & 0 & \\cdots & 0\\\\\n",
    "\\frac{1}{dx^2} & \\frac{-2}{dx^2} & \\frac{1}{dx^2} & 0 & \\cdots & 0\\\\\n",
    "0 & \\frac{1}{dx^2} & \\frac{-2}{dx^2} & \\frac{1}{dx^2}  & \\cdots & 0\\\\\n",
    "&&&&\\ddots\\\\\n",
    "0 & 0 &  \\cdots & 0 & \\frac{1}{dx^2} & \\frac{-2}{dx^2}\\\\\n",
    "\\end{pmatrix} \\end{align}$$\n",
    "\n",
    "NOTE that in the first and last row of the matrix the second derivative formula is truncated due to the the finite size of the real space grid. One can improve the formula by introducing periodic boundary conditions nd effectively transform the points from a line to a circle."
   ]
  },
  {
   "cell_type": "markdown",
   "metadata": {},
   "source": [
    "### Problem:\n",
    "\n",
    "Write a program that solves the Schroedinger equation using the algorithm discussed above for the following cases (to simplify the parameters, you can assume m = $\\hbar$ = 1):\n",
    "\n",
    "1. the single finite square well potential (as above, the Nucleon in the box problem) ![image](Figs/well.png)\n",
    "2. a double square well potential  ![image](Figs/double-well.png)\n",
    "3. the harmonic oscillator potential $\\frac{1}{2}kx^2$  ![image](Figs/harm.png)\n",
    "4. the morse potential $ D(e^{-2a(r-r_0)}-2e^{-a(r-r_0)}) $![image](Figs/morse.png)\n",
    "\n",
    "Explore the solutions as the relative parameters of the potentials are changed. Discuss the results."
   ]
  },
  {
   "cell_type": "code",
   "execution_count": null,
   "metadata": {},
   "outputs": [],
   "source": []
  },
  {
   "cell_type": "code",
   "execution_count": 24,
   "metadata": {},
   "outputs": [],
   "source": [
    "import numpy as np \n",
    "import matplotlib.pyplot as plt\n",
    "n=100\n",
    "x =np.linspace(0,5,n)\n",
    "v=np.zeros(n)\n",
    "j=-1\n",
    "for i in x:\n",
    "    \n",
    "    j += 1\n",
    "    if i < 2:\n",
    "        v[j]=0\n",
    "    if 2 < i < 3: \n",
    "        v[j]=-100\n",
    "    if i > 3: \n",
    "        v[j]=0\n",
    "\n",
    "        \n",
    "#one well potential"
   ]
  },
  {
   "cell_type": "code",
   "execution_count": 25,
   "metadata": {},
   "outputs": [
    {
     "data": {
      "text/plain": [
       "[<matplotlib.lines.Line2D at 0x18f4e6772e0>]"
      ]
     },
     "execution_count": 25,
     "metadata": {},
     "output_type": "execute_result"
    },
    {
     "data": {
      "image/png": "[encoded data removed]",
      "text/plain": [
       "<Figure size 432x288 with 1 Axes>"
      ]
     },
     "metadata": {
      "needs_background": "light"
     },
     "output_type": "display_data"
    }
   ],
   "source": [
    "plt.plot(x,v)"
   ]
  },
  {
   "cell_type": "code",
   "execution_count": 26,
   "metadata": {},
   "outputs": [
    {
     "name": "stdout",
     "output_type": "stream",
     "text": [
      "[[ 392.04 -196.02    0.   ...    0.      0.      0.  ]\n",
      " [-196.02  392.04 -196.02 ...    0.      0.      0.  ]\n",
      " [   0.   -196.02  392.04 ...    0.      0.      0.  ]\n",
      " ...\n",
      " [   0.      0.      0.   ...  392.04 -196.02    0.  ]\n",
      " [   0.      0.      0.   ... -196.02  392.04 -196.02]\n",
      " [   0.      0.      0.   ...    0.   -196.02  392.04]]\n"
     ]
    }
   ],
   "source": [
    "h=np.zeros((n,n))\n",
    "dx=x[1]-x[0]\n",
    "d0=(-1/2)*(-2/dx**2)+v\n",
    "a=np.ones(n-1)\n",
    "d1=a*(-1/2)*(1/dx)**2\n",
    "h0=np.diag(d1,1)\n",
    "h1=np.diag(d1,-1)\n",
    "h2=np.diag(d0)\n",
    "h=h1+h2+h0\n",
    "print(h)\n",
    "\n",
    "#solution of well potential"
   ]
  },
  {
   "cell_type": "code",
   "execution_count": 27,
   "metadata": {},
   "outputs": [
    {
     "data": {
      "text/plain": [
       "[<matplotlib.lines.Line2D at 0x18f4e6e6670>]"
      ]
     },
     "execution_count": 27,
     "metadata": {},
     "output_type": "execute_result"
    },
    {
     "data": {
      "image/png": "[encoded data removed]",
      "text/plain": [
       "<Figure size 432x288 with 1 Axes>"
      ]
     },
     "metadata": {
      "needs_background": "light"
     },
     "output_type": "display_data"
    }
   ],
   "source": [
    "eigv,eigvect= np.linalg.eigh(h)\n",
    "plt.plot(x,eigvect[:,0]-9)\n",
    "plt.plot(x,eigvect[:,1]-8)\n",
    "plt.plot(x,eigvect[:,2]-7)\n",
    "plt.plot(x,eigvect[:,3]-6)\n",
    "plt.plot(x,v/10)"
   ]
  },
  {
   "cell_type": "code",
   "execution_count": 28,
   "metadata": {},
   "outputs": [
    {
     "data": {
      "text/plain": [
       "[<matplotlib.lines.Line2D at 0x18f4e7513d0>]"
      ]
     },
     "execution_count": 28,
     "metadata": {},
     "output_type": "execute_result"
    },
    {
     "data": {
      "image/png": "[encoded data removed]",
      "text/plain": [
       "<Figure size 432x288 with 1 Axes>"
      ]
     },
     "metadata": {
      "needs_background": "light"
     },
     "output_type": "display_data"
    }
   ],
   "source": [
    "import numpy as np \n",
    "import matplotlib.pyplot as plt\n",
    "n=1000\n",
    "x =np.linspace(0,10,n)\n",
    "v=np.zeros(n)\n",
    "j=-1\n",
    "for i in x:\n",
    "    \n",
    "    j += 1\n",
    "    if i < 3:\n",
    "        v[j]=0\n",
    "    if 3 < i < 4: \n",
    "        v[j]=-70\n",
    "    if  4 < i < 6: \n",
    "        v[j]=0\n",
    "    if 6 < i < 7:\n",
    "        v[j]=-50\n",
    "    if i > 7:\n",
    "        v[j]=0\n",
    "plt.plot(x,v)\n"
   ]
  },
  {
   "cell_type": "code",
   "execution_count": 39,
   "metadata": {},
   "outputs": [
    {
     "name": "stdout",
     "output_type": "stream",
     "text": [
      "[[-9980.01  -4990.005     0.    ...     0.        0.        0.   ]\n",
      " [-4990.005 -9980.01  -4990.005 ...     0.        0.        0.   ]\n",
      " [    0.    -4990.005 -9980.01  ...     0.        0.        0.   ]\n",
      " ...\n",
      " [    0.        0.        0.    ... -9980.01  -4990.005     0.   ]\n",
      " [    0.        0.        0.    ... -4990.005 -9980.01  -4990.005]\n",
      " [    0.        0.        0.    ...     0.    -4990.005 -9980.01 ]]\n"
     ]
    }
   ],
   "source": [
    "n=1000\n",
    "h=np.zeros((n,n))\n",
    "dx=x[1]-x[0]\n",
    "d0=(-1/2)*(2/dx**2)+v\n",
    "a=np.ones(n-1)\n",
    "d1=a*(-1/2)*(1/dx)**2\n",
    "h0=np.diag(d1,1)\n",
    "h1=np.diag(d1,-1)\n",
    "h2=np.diag(d0)\n",
    "h=h1+h2+h0\n",
    "print(h)\n"
   ]
  },
  {
   "cell_type": "code",
   "execution_count": 48,
   "metadata": {},
   "outputs": [
    {
     "name": "stdout",
     "output_type": "stream",
     "text": [
      "[-20026.42631756 -20015.76524521 -20006.6136066  -19998.48698462]\n"
     ]
    },
    {
     "data": {
      "text/plain": [
       "[<matplotlib.lines.Line2D at 0x18f4e035d30>]"
      ]
     },
     "execution_count": 48,
     "metadata": {},
     "output_type": "execute_result"
    },
    {
     "data": {
      "image/png": "[encoded data removed]",
      "text/plain": [
       "<Figure size 432x288 with 1 Axes>"
      ]
     },
     "metadata": {
      "needs_background": "light"
     },
     "output_type": "display_data"
    }
   ],
   "source": [
    "eigv,eigvect= np.linalg.eigh(h)\n",
    "print(eigv[:4])\n",
    "plt.plot(x,eigvect[:,0]-9)\n",
    "plt.plot(x,eigvect[:,1]-8)\n",
    "plt.plot(x,eigvect[:,2]-7)\n",
    "plt.plot(x,eigvect[:,3]-6)\n",
    "plt.plot(x,v/7)"
   ]
  },
  {
   "cell_type": "code",
   "execution_count": 30,
   "metadata": {},
   "outputs": [
    {
     "data": {
      "image/png": "[encoded data removed]",
      "text/plain": [
       "<Figure size 432x288 with 1 Axes>"
      ]
     },
     "metadata": {
      "needs_background": "light"
     },
     "output_type": "display_data"
    }
   ],
   "source": [
    "\n",
    "import scipy.integrate as integrate\n",
    "eigv,eigvec= np.linalg.eigh(h)\n",
    "xy=eigvect[:,0]\n",
    "result =integrate.simpson(eigvec**2)\n",
    "plt.plot(x,result)\n",
    "#tried to integrate but didn't look good\n",
    "plt.show()"
   ]
  },
  {
   "cell_type": "code",
   "execution_count": 51,
   "metadata": {},
   "outputs": [
    {
     "data": {
      "text/plain": [
       "[<matplotlib.lines.Line2D at 0x18f4dcd9ac0>]"
      ]
     },
     "execution_count": 51,
     "metadata": {},
     "output_type": "execute_result"
    },
    {
     "data": {
      "image/png": "[encoded data removed]",
      "text/plain": [
       "<Figure size 432x288 with 1 Axes>"
      ]
     },
     "metadata": {
      "needs_background": "light"
     },
     "output_type": "display_data"
    }
   ],
   "source": [
    "n=1000\n",
    "k=20\n",
    "x1 =np.linspace(-4,4,n)\n",
    "y=np.zeros(n)\n",
    "\n",
    "for i in range(len(x1)):\n",
    "    if x1[i] >= -2 and x1[i] <= 2:\n",
    "        y[i]=1/2*k*(x1[i]**2)-40\n",
    "    \n",
    "plt.plot(x1,y)"
   ]
  },
  {
   "cell_type": "code",
   "execution_count": 65,
   "metadata": {},
   "outputs": [
    {
     "name": "stdout",
     "output_type": "stream",
     "text": [
      "[[15593.765625  -7796.8828125     0.        ...     0.\n",
      "      0.            0.       ]\n",
      " [-7796.8828125 15593.765625  -7796.8828125 ...     0.\n",
      "      0.            0.       ]\n",
      " [    0.        -7796.8828125 15593.765625  ...     0.\n",
      "      0.            0.       ]\n",
      " ...\n",
      " [    0.            0.            0.        ... 15593.765625\n",
      "  -7796.8828125     0.       ]\n",
      " [    0.            0.            0.        ... -7796.8828125\n",
      "  15593.765625  -7796.8828125]\n",
      " [    0.            0.            0.        ...     0.\n",
      "  -7796.8828125 15593.765625 ]]\n"
     ]
    }
   ],
   "source": [
    "n=1000\n",
    "h=np.zeros((n,n))\n",
    "dx1=x1[1]-x1[0]\n",
    "d0=(-1/2)*(-2/dx1**2)+y\n",
    "a=np.ones(n-1)\n",
    "d1=a*(-1/2)*(1/dx1)**2\n",
    "h0=np.diag(d1,1)\n",
    "h1=np.diag(d1,-1)\n",
    "h2=np.diag(d0)\n",
    "h=h1+h2+h0\n",
    "print(h)"
   ]
  },
  {
   "cell_type": "code",
   "execution_count": 67,
   "metadata": {},
   "outputs": [
    {
     "data": {
      "text/plain": [
       "[<matplotlib.lines.Line2D at 0x18f4e9a4ac0>]"
      ]
     },
     "execution_count": 67,
     "metadata": {},
     "output_type": "execute_result"
    },
    {
     "data": {
      "image/png": "[encoded data removed]",
      "text/plain": [
       "<Figure size 432x288 with 1 Axes>"
      ]
     },
     "metadata": {
      "needs_background": "light"
     },
     "output_type": "display_data"
    }
   ],
   "source": [
    "eigv,eigvect= np.linalg.eigh(h)\n",
    "plt.plot(x1,eigvect[:,0]-9)\n",
    "plt.plot(x1,eigvect[:,1]-8)\n",
    "plt.plot(x1,eigvect[:,2]-7)\n",
    "plt.plot(x1,eigvect[:,3]-6)\n",
    "\n",
    "plt.plot(x1,y/4)\n",
    "\n"
   ]
  },
  {
   "cell_type": "code",
   "execution_count": 84,
   "metadata": {},
   "outputs": [
    {
     "data": {
      "text/plain": [
       "[<matplotlib.lines.Line2D at 0x18f4f04f580>]"
      ]
     },
     "execution_count": 84,
     "metadata": {},
     "output_type": "execute_result"
    },
    {
     "data": {
      "image/png": "[encoded data removed]",
      "text/plain": [
       "<Figure size 432x288 with 1 Axes>"
      ]
     },
     "metadata": {
      "needs_background": "light"
     },
     "output_type": "display_data"
    }
   ],
   "source": [
    "import numpy as np\n",
    "import matplotlib.pyplot as plt\n",
    "import math\n",
    "N = 1000\n",
    "x2 = np.linspace(-5, 20, N)\n",
    "y1=np.zeros(N)\n",
    "D = -0.2\n",
    "a = 0.5\n",
    "r0 = 7\n",
    "for i in range(0,N):\n",
    "    if (x2[i] < 2):\n",
    "        y1[i] = 0\n",
    "    elif (2<=x[i]<=7):\n",
    "        y1[i] = D * ((np.exp(-2*a*(x2[i]-r0))) - (2*(np.exp(-a*(x2[i]-r0)))))\n",
    "    elif (x2[i] > 7):\n",
    "        y1[i] = 0\n",
    "\n",
    "plt.plot(x,y1)"
   ]
  },
  {
   "cell_type": "code",
   "execution_count": 85,
   "metadata": {},
   "outputs": [
    {
     "name": "stdout",
     "output_type": "stream",
     "text": [
      "[[15593.765625  -7796.8828125     0.        ...     0.\n",
      "      0.            0.       ]\n",
      " [-7796.8828125 15593.765625  -7796.8828125 ...     0.\n",
      "      0.            0.       ]\n",
      " [    0.        -7796.8828125 15593.765625  ...     0.\n",
      "      0.            0.       ]\n",
      " ...\n",
      " [    0.            0.            0.        ... 15593.765625\n",
      "  -7796.8828125     0.       ]\n",
      " [    0.            0.            0.        ... -7796.8828125\n",
      "  15593.765625  -7796.8828125]\n",
      " [    0.            0.            0.        ...     0.\n",
      "  -7796.8828125 15593.765625 ]]\n"
     ]
    }
   ],
   "source": [
    "h=np.zeros((n,n))\n",
    "dx1=x1[1]-x1[0]\n",
    "d0=(-1/2)*(-2/dx1**2)+y1\n",
    "a=np.ones(n-1)\n",
    "d1=a*(-1/2)*(1/dx1)**2\n",
    "h0=np.diag(d1,1)\n",
    "h1=np.diag(d1,-1)\n",
    "h2=np.diag(d0)\n",
    "h=h1+h2+h0\n",
    "print(h)"
   ]
  },
  {
   "cell_type": "code",
   "execution_count": 89,
   "metadata": {},
   "outputs": [
    {
     "data": {
      "text/plain": [
       "[<matplotlib.lines.Line2D at 0x18f4f1b1e20>]"
      ]
     },
     "execution_count": 89,
     "metadata": {},
     "output_type": "execute_result"
    },
    {
     "data": {
      "image/png": "[encoded data removed]",
      "text/plain": [
       "<Figure size 432x288 with 1 Axes>"
      ]
     },
     "metadata": {
      "needs_background": "light"
     },
     "output_type": "display_data"
    }
   ],
   "source": [
    "eigv,eigvect= np.linalg.eigh(h)\n",
    "plt.plot(x1,eigvect[:,0]-9)\n",
    "plt.plot(x1,eigvect[:,1]-8)\n",
    "plt.plot(x1,eigvect[:,2]-7)\n",
    "plt.plot(x1,eigvect[:,3]-6)\n",
    "\n",
    "plt.plot(x1,y1/2.5)\n"
   ]
  }
 ],
 "metadata": {
  "kernelspec": {
   "display_name": "Python 3",
   "language": "python",
   "name": "python3"
  },
  "language_info": {
   "codemirror_mode": {
    "name": "ipython",
    "version": 3
   },
   "file_extension": ".py",
   "mimetype": "text/x-python",
   "name": "python",
   "nbconvert_exporter": "python",
   "pygments_lexer": "ipython3",
   "version": "3.8.8"
  }
 },
 "nbformat": 4,
 "nbformat_minor": 2
}
