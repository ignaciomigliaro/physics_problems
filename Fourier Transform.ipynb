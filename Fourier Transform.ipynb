{
 "cells": [
  {
   "cell_type": "markdown",
   "metadata": {},
   "source": [
    "## Fourier transforms"
   ]
  },
  {
   "cell_type": "code",
   "execution_count": null,
   "metadata": {},
   "outputs": [],
   "source": []
  },
  {
   "cell_type": "code",
   "execution_count": 42,
   "metadata": {},
   "outputs": [],
   "source": [
    "from scipy import signal\n",
    "import scipy.fftpack as FFT\n",
    "import matplotlib.pyplot as plt\n",
    "import numpy as np"
   ]
  },
  {
   "cell_type": "markdown",
   "metadata": {},
   "source": [
    "##  Fourier Analysis of Nonlinear Oscillations <a id=\"12.1\"></a>\n",
    "\n",
    "\n",
    "Consider a particle oscillating either in the nonharmonic potential of\n",
    "(8.5):\n",
    "\n",
    "$$\\tag*{12.1} V(x) = \\frac{1}{p} k |x|^{p}, \\qquad p\\neq 2,$$\n",
    "\n",
    "or in the perturbed harmonic oscillator potential (8.2),\n",
    "\n",
    "$$\\tag*{12.2} V(x) = \\frac{1}{2}kx^{2}\\left(1 - \\frac{2}{3}\\alpha x\\right).$$\n",
    "\n",
    "While free oscillations in these potentials are always periodic, they\n",
    "are not sinusoidal. Your **problem** is to take the solution of one of\n",
    "these nonlinear oscillators and expand it in a Fourier basis:\n",
    "\n",
    "$$\\tag*{12.3} x(t) = A_{0} \\sin(\\omega t + \\phi_{0}).$$\n",
    "\n",
    "For example, if your oscillator is sufficiently nonlinear to behave like\n",
    "the sawtooth function (Figure 12.1 A), then the Fourier spectrum you\n",
    "obtain should be similar to that shown in Figure 12.1 B.\n",
    "\n",
    "In general, when we undertake such a spectral analysis we want to\n",
    "analyze the steady-state behavior of a system. This means that we have\n",
    "waited for the initial transient behavior to die out. It is easy to\n",
    "identify just what the initial transient is for linear systems, but may\n",
    "be less so for nonlinear systems in which the “steady state” jumps among\n",
    "a number of configurations. In the latter case we would have different\n",
    "Fourier spectra at different times."
   ]
  },
  {
   "cell_type": "markdown",
   "metadata": {},
   "source": [
    "##  Fourier Series (Math) <a id=\"12.2\"></a>\n",
    "\n",
    "Part of our interest in nonlinear oscillations arises from their lack of\n",
    "study in traditional physics courses where linear oscillations, despite\n",
    "the fact that they are just a first approximation, are most often\n",
    "studied. If the force on a particle is always toward its equilibrium\n",
    "position (a restoring force), then the resulting motion will be\n",
    "*periodic*, but not necessarily *harmonic*. A good example is the motion\n",
    "in a highly anharmonic potential with $p \\simeq 10$ in (12.1) that\n",
    "produces an $x(t)$ looking like a series of pyramids; this motion is\n",
    "periodic but not harmonic.\n",
    "\n",
    "In a sense, our approach is the inverse of the traditional one in which\n",
    "the *fundamental* oscillation is determined analytically and the\n",
    "higher-frequency *overtones* are determined by perturbation theory\n",
    "\\[[Landau & Lifshitz(76)](BiblioLinked.html#LL)\\]. We start with the full (numerical) periodic\n",
    "solution and then decompose it into what may be called *harmonics.* When\n",
    "we speak of fundamentals, overtones, and harmonics, we speak of\n",
    "solutions to the linear *boundary-value problem*, for example, of waves\n",
    "on a plucked violin string. In this latter case, and when given the\n",
    "correct conditions (enough musical skill), it is possible to excite\n",
    "individual harmonics or sums of them in the series\n",
    "\n",
    "$$\\tag*{12.4} y(t) = b_{0} \\sin\\omega_{0} t + b_{1} \\sin {2\\omega_{0} t} +\n",
    "\\cdots.$$\n",
    "\n",
    "Anharmonic oscillators vibrate at a single frequency (which may vary\n",
    "with amplitude) but not with a sinusoidal waveform. Although it is\n",
    "mathematically proper to expand nonlinear oscillations in a Fourier\n",
    "series, this does not imply that the individual harmonics can be excited\n",
    "(played).\n",
    "\n",
    "You may recall from classical mechanics that the general solution for a\n",
    "vibrating system can be expressed as the sum of the *normal modes* of\n",
    "that system. These expansions are possible only if we have *linear\n",
    "operators* and, subsequently, the *principle of superposition*: If\n",
    "$y_{1}(t)$ and $y_{2}(t)$ are solutions of some linear equation, then\n",
    "$ \\alpha_{1}y_{1}(t) +\n",
    "\\alpha_{2}y_{2}(t)$ is also a solution. The principle of linear\n",
    "superposition does not hold when we solve nonlinear problems.\n",
    "Nevertheless, it is always possible to expand a *periodic* solution of a\n",
    "*nonlinear* problem in terms of trigonometric functions with frequencies\n",
    "that are integer multiples of the true frequency of the nonlinear\n",
    "oscillator.\\[*Note:* We remind the reader that every periodic system by\n",
    "definition has a period $T$ and consequently a true frequency $\\omega$.\n",
    "Nonetheless, this does not imply that the system behaves like\n",
    "$\\sin\\omega t$. Only harmonic oscillators do that.\\] This is a\n",
    "consequence of *Fourier’s theorem* being applicable to any single-valued\n",
    "periodic function with only a finite number of discontinuities. We\n",
    "assume we know the period $T$, that is, that\n",
    "\n",
    "$$\\tag*{12.5} y(t+T) = y(t).$$\n",
    "\n",
    "This tells us the *true frequency* $\\omega$:\n",
    "\n",
    "$$\\tag*{12.6}\n",
    "\\omega \\equiv \\omega_1 =\\frac{2\\pi}{T}.$$\n",
    "\n",
    "A periodic function (usually designated as the *signal*) can be expanded\n",
    "as a series of harmonic functions with frequencies that are multiples of\n",
    "the true frequency:\n",
    "\n",
    "$$\\tag*{12.7}\n",
    " y(t) = \\frac{a_0}{2} + \\sum_{n=1}^{\\infty} \\left(a_{n} \\cos\n",
    "n\\omega t + b_{n} \\sin n\\omega t\n",
    "\\right).$$\n",
    "\n",
    "This equation represents the signal $y(t)$ as the simultaneous sum of\n",
    "pure tones of frequency $n\\omega$. The coefficients $a_{n}$ and $b_{n}$\n",
    "measure of the amount of $\\cos n\\omega t$ and $\\sin\n",
    "n\\omega t$ present in $y(t)$ respectively. The intensity or power at\n",
    "each frequency is proportional to $a_n^2+b_n^2$.\n",
    "\n",
    "The Fourier series (12.7) is a “best fit” in the least-squares sense,\n",
    "because it minimizes $\\sum_{i} [y(t_{i})-y_{i}]^{2}$, where $i$ denotes\n",
    "different measurements of the signal. This means that the series\n",
    "converges to the *average* behavior of the function, but misses the\n",
    "function at discontinuities (at which points it converges to the mean)\n",
    "or at sharp corners (where it overshoots). A general function $y(t)$ may\n",
    "contain an infinite number of Fourier components, although low-accuracy\n",
    "reproduction is usually possible with a small number of harmonics.\n",
    "\n",
    "The coefficients $a_{n}$ and $b_{n}$ in (12.7) are determined by the\n",
    "standard techniques for orthogonal function expansion. To find them,\n",
    "multiply both sides of (12.7) by $\\cos n\\omega t$ or $\\sin\n",
    "n\\omega t$, integrate over one period, and project a single $a_{n}$ or\n",
    "$b_{n}$:\n",
    "\n",
    "$$\\tag*{12.8}\n",
    "  {a_n\\choose b_n} = \\frac{2}{T} \\int _{0}^{T} dt {\\cos n\\omega\n",
    "t\\choose \\sin n\\omega t} y(t), \\quad \\omega  =  \\frac{2\\pi}{T}.$$\n",
    "\n",
    "As seen in the $b_n$ coefficients (Figure 12.1 right), these\n",
    "coefficients usually decrease in magnitude as the frequency increases,\n",
    "and can enter with a negative sign, the negative sign indicating\n",
    "relative phase.\n",
    "\n",
    "Awareness of the *symmetry* of the function $y(t)$ may eliminate the\n",
    "need to evaluate all the expansion coefficients. For example,\n",
    "\n",
    "- $a_{0}$ is twice the average value of $y$:\n",
    "$$\\tag*{12.9}\n",
    "    a_{0} = 2 \\left\\langle y(t)\\right\\rangle.$$\n",
    "\n",
    "-   For an *odd function*, that is, one for which $y(-t) = - y(t)$, all\n",
    "    $a_{n}$ coefficients $\\equiv 0$, and only half of the integration\n",
    "    range is needed to determine $b_{n}$:\n",
    "\n",
    "    $$\\tag*{12.10}\n",
    "    b_{n} = \\frac{4}{T} \\int _{0}^{T/2} dt\\ y(t) \\sin n\\omega t.$$\n",
    "\n",
    "    However, if there is no input signal for $t<0$, we do not have a\n",
    "    truly odd function, and so small values of $a_n$ may occur.\n",
    "\n",
    "-   For an *even function*, that is, one for which $y(-t) =\n",
    "    y(t)$, all $b_{n}$ coefficient $\\equiv 0$, and only half the\n",
    "    integration range is needed to determine $a_{n}$:\n",
    "\n",
    "    $$\\tag*{12.11}\n",
    "    a_{n} = \\frac{4}{T} \\int _{0}^{T/2} dt\\ y(t) \\cos n\\omega t .$$\n",
    "\n",
    "![image](Figs/Fig12_1.png)\n",
    "\n",
    "**Figure 12.1** *Top:* A sawtooth function that repeats infinitely in time.\n",
    "*Bottom:* The Fourier spectrum of frequencies contained in this function\n",
    "(natural units). See too Figure 1.9 in which we show the result of summing a\n",
    "finite number of terms of this series."
   ]
  },
  {
   "cell_type": "markdown",
   "metadata": {},
   "source": [
    "### 12.2.1  Examples: Sawtooth & Half-Wave Functions<a id=\"12.2.1\"></a>\n",
    "\n",
    "The sawtooth function (Figure 12.1) is described mathematically as\n",
    "\n",
    "$$\\tag*{12.12} y(t) =\\begin{cases}\n",
    "\\frac{t}{T/2}, & for\\ 0\\leq t \\leq \\frac{T}{2},\\\n",
    "\\frac{t-T}{ T/2}, & for \\ \\frac{T}{2} \\leq t \\leq T.\n",
    "\\end{cases}$$\n",
    "\n",
    "It is clearly periodic, nonharmonic, and discontinuous. Yet it is also\n",
    "odd and so can be represented more simply by shifting the signal to the\n",
    "Top:\n",
    "\n",
    "$$\\tag*{12.13} y(t) = \\frac{t}{T/2}, \\quad -\\frac{T}{2} \\leq t \\leq \\frac{T}{2}.$$\n",
    "\n",
    "Although the general shape of this function can be reproduced with only\n",
    "a few terms of the Fourier components, many components are needed to\n",
    "reproduce the sharp corners. Because the function is odd, the Fourier\n",
    "series is a sine series and (12.8) determines the $b_n$ values:\n",
    "\n",
    "$$\\begin{align} \\tag*{12.14}\n",
    "b_{n} & =  \\frac{2}{T} \\int\\limits_{-T/2}^{+T/2} dt  \\sin n\\omega t \\frac{t} { T/2} =\n",
    "\\frac{2}{n\\pi}(-1)^{n+1},  \\\\\n",
    "\\Rightarrow\\quad    y(t) & =  \\frac{2}{\\pi} \\left[\\sin \\omega t - \\frac{1}{2} \\sin 2\\omega t + \\frac{1}{3} \\sin 3\\omega t - \\cdots\n",
    "\\right].\\tag*{12.15}\\end{align}$$\n",
    "\n",
    "The half-wave function \n",
    "\n",
    "$$\\tag*{12.16} \n",
    "y(t) =\\begin{cases} \\sin \\omega t, & for  \\ 0<t< T/2 , \\\\\n",
    " 0, & for \\ T/2 < t < T, \\end{cases}$$\n",
    "\n",
    "is periodic, nonharmonic (the upper half of a sine wave), and continuous, but\n",
    "with discontinuous derivatives. Because it lacks the sharp corners of the\n",
    "sawtooth function, it is easier to reproduce with a finite Fourier series. Equation\n",
    "(12.8) determines \n",
    "\n",
    "$$\\begin{align}\n",
    " a_{n} & =\\begin{cases}\n",
    " \\frac{-2}{\\pi(n^2-1)}, & n\\  \\mbox{even or  0},\\\\\n",
    " 0, & n\\  \\mbox{odd},\\\\\n",
    "\\end{cases}  \\\\\n",
    " b_{n} &=\\begin{cases}\n",
    " \\frac{1}{2}, & n = 1,\\\\\n",
    " 0, & n \\neq 1,\n",
    "\\end{cases}\\\\\n",
    "\\Rightarrow\\quad    y(t) & =  \\frac{1}{2} \\sin \\omega t +\n",
    "\\frac{1}{\\pi} - \\frac{2}{3\\pi} \\cos 2\\omega t - \\frac{2}{15\\pi}\n",
    "\\cos 4 \\omega t + .\\tag*{12.17}\\end{align}$$\n",
    "\n",
    "## 12.3  Exercise: Summation of Fourier Series <a id=\"12.3\"></a>\n",
    "\n",
    "Write a program that performs the summation of the Fourier series for the sawtooth and half-wave functions:\n",
    "\n",
    "1.  **Sawtooth function:** Sum the Fourier series for the *sawtooth\n",
    "    function* up to order $n= 2, 4, 10, 20$, and plot the results over\n",
    "    two periods.\n",
    "\n",
    "    1.  Check that in each case the series gives the mean value of the\n",
    "        function *at* the points of discontinuity.\n",
    "\n",
    "    2.  Check that in each case the series *overshoots* by about 9% the\n",
    "        value of the function on either side of the discontinuity (the\n",
    "        *Gibbs phenomenon*).\n",
    "\n",
    "2.  **Half-wave function:** Sum the Fourier series for the *half-wave\n",
    "    function* up to order $n=2, 4, 10$,5 and plot the results over\n",
    "    two periods. (The series converges quite well, doesn’t it?)"
   ]
  },
  {
   "cell_type": "code",
   "execution_count": 43,
   "metadata": {},
   "outputs": [
    {
     "data": {
      "text/plain": [
       "[<matplotlib.lines.Line2D at 0x21c8438b310>]"
      ]
     },
     "execution_count": 43,
     "metadata": {},
     "output_type": "execute_result"
    },
    {
     "data": {
      "image/png": "[encoded data removed]",
      "text/plain": [
       "<Figure size 432x288 with 1 Axes>"
      ]
     },
     "metadata": {
      "needs_background": "light"
     },
     "output_type": "display_data"
    }
   ],
   "source": [
    "import numpy as np \n",
    "import scipy as sp \n",
    "import matplotlib.pyplot as plt\n",
    "\n",
    "T=10\n",
    "t=np.linspace(0,T,100)\n",
    "y1=np.zeros(100)\n",
    "for i in range(100):\n",
    "    if 0 <= t[i] <= T/2:\n",
    "        y1[i] = t[i]/(.5*T) \n",
    "    elif T/2 <= t[i] <= T:\n",
    "        y1[i]=(t[i]-T)/(T/2)\n",
    "\n",
    "plt.plot(t,y1)\n",
    "\n"
   ]
  },
  {
   "cell_type": "code",
   "execution_count": 44,
   "metadata": {},
   "outputs": [
    {
     "data": {
      "text/plain": [
       "[<matplotlib.lines.Line2D at 0x21c843f4b50>]"
      ]
     },
     "execution_count": 44,
     "metadata": {},
     "output_type": "execute_result"
    },
    {
     "data": {
      "image/png": "[encoded data removed]",
      "text/plain": [
       "<Figure size 432x288 with 1 Axes>"
      ]
     },
     "metadata": {
      "needs_background": "light"
     },
     "output_type": "display_data"
    }
   ],
   "source": [
    "n=20\n",
    "w=(2*np.pi)/T\n",
    "#w=1\n",
    "y=np.zeros(100)\n",
    "for i in range(1,n):\n",
    "    y += 2/(np.pi*i)*(-1)**(i+1)*np.sin(i*w*t)\n",
    "plt.plot(t,y)\n",
    "plt.plot(t,y1)"
   ]
  },
  {
   "cell_type": "code",
   "execution_count": 45,
   "metadata": {},
   "outputs": [
    {
     "data": {
      "text/plain": [
       "[<matplotlib.lines.Line2D at 0x21c85426a60>]"
      ]
     },
     "execution_count": 45,
     "metadata": {},
     "output_type": "execute_result"
    },
    {
     "data": {
      "image/png": "[encoded data removed]",
      "text/plain": [
       "<Figure size 432x288 with 1 Axes>"
      ]
     },
     "metadata": {
      "needs_background": "light"
     },
     "output_type": "display_data"
    }
   ],
   "source": [
    "import numpy as np \n",
    "import scipy as sp \n",
    "import matplotlib.pyplot as plt\n",
    "T=10\n",
    "\n",
    "for i in range(len(t)):\n",
    "    if 0 < t[i] < T/2:\n",
    "        y[i]=np.sin(w*t[i])\n",
    "    elif T/2 < t[i] < T:\n",
    "        y[i]=0\n",
    "plt.plot(t,y)"
   ]
  },
  {
   "cell_type": "code",
   "execution_count": 46,
   "metadata": {
    "scrolled": true
   },
   "outputs": [
    {
     "data": {
      "text/plain": [
       "[<matplotlib.lines.Line2D at 0x21c85498460>]"
      ]
     },
     "execution_count": 46,
     "metadata": {},
     "output_type": "execute_result"
    },
    {
     "data": {
      "image/png": "[encoded data removed]",
      "text/plain": [
       "<Figure size 432x288 with 1 Axes>"
      ]
     },
     "metadata": {
      "needs_background": "light"
     },
     "output_type": "display_data"
    }
   ],
   "source": [
    "n=20\n",
    "w=(2*np.pi)/T\n",
    "#w=1\n",
    "y1=np.zeros(100)\n",
    "for i in range(1,n):\n",
    "    if i == 0 or i%2==0:\n",
    "        y1 += -2/(np.pi*(i**2-1))*np.cos(i*w*t)\n",
    "        #print('working')\n",
    "    if i%2 != 0:\n",
    "        y1 += 0\n",
    "        #print('working1')\n",
    "    if i == 1: \n",
    "        y1 += .5*np.sin(i*w*t)\n",
    "       # print('working2')\n",
    "\n",
    "plt.plot(t,y1)\n"
   ]
  },
  {
   "cell_type": "markdown",
   "metadata": {},
   "source": [
    "## 12.4  Fourier Transforms (Theory)<a id=\"12.4\"></a>\n",
    "\n",
    "Although a Fourier *series* is the right tool for approximating or\n",
    "analyzing periodic functions, the Fourier *transform* or *integral* is\n",
    "the right tool for nonperiodic functions. We convert from series to\n",
    "transform by imagining a system described by a continuum of\n",
    "“fundamental” frequencies. We thereby deal with *wave packets*\n",
    "containing continuous rather than discrete frequencies.\\[*Note:* We\n",
    "follow convention and consider time the function’s variable and\n",
    "frequency the transform’s variable. Nonetheless, these can be reversed\n",
    "or other variables such as position and wave vector may also be used.\\]\n",
    "While the difference between series and transform methods may appear\n",
    "clear mathematically, when we approximate the Fourier integral as a\n",
    "finite sum, the two become equivalent.\n",
    "\n",
    "By analogy with (12.7), we now imagine our function or signal $y(t)$\n",
    "expressed in terms of a continuous series of harmonics (*inverse Fourier\n",
    "transform*):[{xml}](http://physics.oregonstate.edu/~rubin/Books/CPbook/eBook/xml/12.18.xml)\n",
    "\n",
    "$$\\tag*{12.18}\n",
    "  y(t)    = \\int_{-\\infty}^{+\\infty} d\\omega\\\n",
    "Y(\\omega)  \\frac{e^{i\\omega t}} {\n",
    "\\sqrt{2\\pi}},$$\n",
    "\n",
    "where for compactness we use a complex exponential function.\\[*Note:*\n",
    "Recall that $\\exp(i\\omega t) = \\cos \\omega t + i \\sin\n",
    "\\omega t$, and with the law of linear superposition this means that the\n",
    "real part of $y$ gives the cosine series, and the imaginary part the sine series.\\]\n",
    "The expansion amplitude $Y(\\omega)$ is analogous to the Fourier coefficients\n",
    "$(a_{n},b_{n})$, and is called the *Fourier transform* of $y(t)$. The integral\n",
    "(12.18) is the inverse transform because it converts the transform to the signal.\n",
    "The *Fourier transform* converts the signal $y(t)$ to its transform[{xml}](http://physics.oregonstate.edu/~rubin/Books/CPbook/eBook/xml/12.19.xml)\n",
    "\n",
    "$Y(\\omega)$:\n",
    "$$\\begin{align}\n",
    "\\tag*{12.19}\n",
    "  Y(\\omega) = \\int_{-\\infty}^{+\\infty} dt\n",
    "\\frac{e^{-i\\omega t}} {\\sqrt{2\\pi}} y(t) .\\end{align}$$ \n",
    "\n",
    "The\n",
    "$1/\\sqrt{2\\pi}$ factor in both these integrals is a common normalization\n",
    "in quantum mechanics, but maybe not in engineering where only a single\n",
    "$1/2\\pi$ factor is used. Likewise, the signs in the exponents are also\n",
    "conventions that do not matter as long as you maintain consistency.\n",
    "\n",
    "If $y(t)$ is the measured response of a system (signal) as a function of\n",
    "time, then $Y(\\omega)$ is the *spectral function* that measures the\n",
    "amount of frequency $\\omega$ present in the signal. In many cases it\n",
    "turns out that $Y(\\omega)$ is a complex function with both positive and\n",
    "negative values, and with powers-of-ten variation in magnitude.\n",
    "Accordingly, it is customary to eliminate some of the complexity of\n",
    "$Y(\\omega)$ by making a semilog plot of the squared modulus\n",
    "$\\left| Y(\\omega)\\right|^{2}$ *versus* $\\omega$. This is called a *power\n",
    "spectrum* and provides an immediate view of the amount of power or\n",
    "strength in each component.\n",
    "\n",
    "If the Fourier transform and its inverse are consistent with each other, we\n",
    "should be able to substitute (12.18) into (12.19) and obtain an identity:\n",
    "\n",
    "$$\\begin{align} \\tag*{12.20}\n",
    "Y(\\omega) & =  \\int_{-\\infty}^{+\\infty}\\! dt  \\frac{e^{-i\\omega\n",
    "t}}{\\sqrt{2\\pi}} \\int_{-\\infty}^{+\\infty}    d\\omega'\n",
    "\\frac{e^{i\\omega' t}}{\\sqrt{2\\pi}} Y(\\omega')  \\\\\n",
    "&\\!=\\! \\int_{-\\infty}^{+\\infty} d\\omega'\\left\\{\\int_{-\\infty}^{+\\infty}\n",
    "dt \\frac{e^{i(\\omega'-\\omega) t}}{2\\pi} \\right\\}Y(\\omega').\\tag*{12.21}\n",
    " \\end{align}$$\n",
    "\n",
    "For this to be an identity, the term in braces must be the *Dirac delta\n",
    "function*:\n",
    "\n",
    "$$\\tag*{12.22}\n",
    "\\int_{-\\infty}^{+\\infty} dt  e^{i(\\omega'-\\omega) t} = 2\\pi\n",
    " \\delta (\\omega'-\\omega).$$\n",
    "\n",
    "While the delta function is one of the most common and useful functions\n",
    "in theoretical physics, it is not well behaved in a mathematical sense\n",
    "and misbehaves terribly in a computational sense. While it is possible\n",
    "to create numerical approximations to $\\delta(\\omega' -\\omega)$, they\n",
    "may well be borderline pathological. It is certainly better for you to\n",
    "do the delta function part of an integration analytically and leave the\n",
    "nonsingular leftovers to the computer."
   ]
  },
  {
   "cell_type": "markdown",
   "metadata": {},
   "source": [
    "## 12.5  The Discrete Fourier Transform <a id=\"12.5\"></a>\n",
    "\n",
    "If $y(t)$ or $Y(\\omega)$ is known analytically or numerically, the\n",
    "integral (12.18) and (12.19) can be evaluated using the integration\n",
    "techniques studied earlier. In practice, the signal $y(t)$ is measured\n",
    "at just a finite number $N$ of times $t$, and these are all we have as\n",
    "input to approximate the transform. The resultant *discrete Fourier\n",
    "transform*\n",
    "is an approximation both because the signal is not known for all times,\n",
    "and because we must integrate numerically. Once\n",
    "we have a discrete set of (approximate) transform values, they can be\n",
    "used to reconstruct the signal for any value of the time. In this way\n",
    "the DFT can be thought of as a technique for interpolating, compressing,\n",
    "and extrapolating the signal.\n",
    "\n",
    "We assume that the signal $y(t)$ is sampled at $(N+1)$ discrete times ($N$\n",
    "time intervals), with a constant spacing $\\Delta t = h$ between times:\n",
    "\n",
    "$$\\begin{align} \\tag*{12.23}\n",
    "y_{k} & =  y(t_{k}),\\qquad & k &=0,1,2,\\ldots, N, \\\\\n",
    "t_{k} &{ = } k h, \\qquad &h  =\\Delta t.\\tag*{12.24}\n",
    "\\end{align}$$ \n",
    "\n",
    "In other words, we measure the signal\n",
    "$y(t)$ once every $h^{th}$ of a second for a total time of $T$. This\n",
    "correspondingly define the signal’s period $T$ and the *sampling rate* $s$:\n",
    "\n",
    " $$T= Nh, \\qquad s = \\frac{N}{T} = \\frac{1}{h}.\\tag*{12.25}$$\n",
    "\n",
    "Regardless of the true\n",
    "periodicity of the signal, when we choose a period $T$ over which to sample the\n",
    "signal, the mathematics will inevitably produce a $y(t)$ that is periodic with\n",
    "period $T$, \n",
    "\n",
    "$$\\tag*{12.26}\n",
    " y(t+T) = y(t).$$ \n",
    " \n",
    "We recognize this periodicity, and ensure that there\n",
    "are only $N$ independent measurements used in the transform, by defining the\n",
    "first and last $y$’s to be equal:\n",
    "\n",
    "$$\\begin{align}\n",
    "\\tag*{12.27}\n",
    " y_0 = y_N.\\end{align}$$\n",
    " \n",
    "If we are analyzing a truly periodic\n",
    "function, then the $N$ points should span one complete period, but not\n",
    "more. This guarantees their independence. Unless we make further\n",
    "assumptions, the $N$ independent data $y(t_{k})$ can determine no more\n",
    "than $N$ independent transform values\n",
    "$Y(\\omega_{k}),   k= 0, \\ldots, N$.\n",
    "\n",
    "The time interval $T$ (which should be the period for periodic\n",
    "functions) is the largest time over which we measure the variation of\n",
    "$y(t)$. Consequently, it determines the lowest frequency contained in\n",
    "our Fourier representation of $y(t)$,\n",
    "\n",
    "$$\\tag*{12.28}\n",
    "\\omega_1 = \\frac{2 \\pi}{T}.$$\n",
    "\n",
    "The full range of frequencies in the spectrum $\\omega_n$ are determined\n",
    "by the number of samples taken, and by the total sampling time $T=Nh$ as\n",
    "\n",
    "$$\\tag*{12.29}\n",
    "\\omega_{n} = n \\omega_1= n \\frac{2\\pi}{Nh}, \\qquad n =0,\n",
    "1,\\ldots,N.$$\n",
    "\n",
    "Here $\\omega_0=0$ corresponds to the zero-frequency or DC component of\n",
    "the transform, that is, the part of the signal that does not oscillate.\n",
    "\n",
    "We see from (12.29) that the larger we make the time $T=Nh$ over which\n",
    "we sample the function, the smaller will be the frequency steps or\n",
    "resolution.\\[*Note:* See also §12.5.1 where we discuss the related\n",
    "phenomenon of aliasing.\\] Accordingly, if you want a smooth frequency\n",
    "spectrum, you need to have a small frequency step $2\\pi/T$, which means\n",
    "a longer observation time $T$. While the best approach would be to\n",
    "measure the input signal for all times, in practice a measured signal\n",
    "$y(t)$ is often extended in time (“padded”) by adding zeros for times\n",
    "beyond the last measured signal, which thereby increases the value of\n",
    "$T$ artificially. Although this does not add new information to the\n",
    "analysis, it does build in the experimentalist’s view that the signal\n",
    "has no existence, or no meaning, at times after the measurements are\n",
    "stopped.\n",
    "\n",
    "While periodicity is expected for a Fourier *series*, it is somewhat\n",
    "surprising for Fourier a *integral*, which have been touted as the right\n",
    "tool for nonperiodic functions. Clearly, if we input values of the\n",
    "signal for longer lengths of time, then the inherent period becomes\n",
    "longer, and if the repeat period $T$ is very long, it may be of little\n",
    "consequence for times short compared to the period. If $y(t)$ is\n",
    "actually periodic with period $Nh$, then the DFT is an excellent way of\n",
    "obtaining Fourier series. If the input function is not periodic, then\n",
    "the DFT can be a bad approximation near the endpoints of the time\n",
    "interval (after which the function will repeat) or, correspondingly, for\n",
    "the lowest frequencies.\n",
    "\n",
    "Although it could be educational to write our own version of a discrete Fourier transform algorithm, given the ubiquitous role that Fourier transform have in innumerous fields, there exist very efficient techniques that optimize the preformance of the operations. In particular, the\n",
    "*fast Fourier\n",
    "transform*\n",
    "algorithm, evaluates the\n",
    "the DFT as a matrix multiplication of a vector of length\n",
    "$N$ containing the $Z$ values by a vector of length $N$ of $y$ value.\n",
    "The time for this DFT scales like $N^{2}$, while the time for the FFT\n",
    "algorithm scales as $N \\log_{2} N$. Although this may not seem like much\n",
    "of a difference, for $N=10^{2-3}$, the difference of $10^{3-5}$ is the\n",
    "difference between a minute and a week. For this reason, it is the FFT\n",
    "is often used for on-line spectrum analysis.\n",
    "\n",
    "In what follows we will use the Fourier transform functions contained in the Python scientific library [Scipy](https://docs.scipy.org/doc/scipy/reference/tutorial/fft.html)."
   ]
  },
  {
   "cell_type": "markdown",
   "metadata": {},
   "source": [
    "### Assessment\n",
    "\n",
    "Using `scipy` compute and plot the function and imaginary and real component of the Fourier transform for\n",
    "$$ y = f(x) = (1+2\\sin(x+2)+3\\sin(4x+2))(1+2\\sin(x+2) + 3\\sin(4x+2))$$\n",
    "for x between [0,$2\\pi$]"
   ]
  },
  {
   "cell_type": "code",
   "execution_count": 47,
   "metadata": {},
   "outputs": [
    {
     "data": {
      "text/plain": [
       "[<matplotlib.lines.Line2D at 0x21c854fc160>]"
      ]
     },
     "execution_count": 47,
     "metadata": {},
     "output_type": "execute_result"
    },
    {
     "data": {
      "image/png": "[encoded data removed]",
      "text/plain": [
       "<Figure size 432x288 with 1 Axes>"
      ]
     },
     "metadata": {
      "needs_background": "light"
     },
     "output_type": "display_data"
    }
   ],
   "source": [
    "import numpy as np \n",
    "import scipy as sp \n",
    "n1=10000\n",
    "x=np.linspace(0,2*np.pi,n1)\n",
    "y=((1+2*np.sin(x+2)+3*np.sin(4*x+2))*((1+2*np.sin(x+2))+(3*np.sin(4*x+2))))\n",
    "plt.plot(x,y)"
   ]
  },
  {
   "cell_type": "code",
   "execution_count": 48,
   "metadata": {},
   "outputs": [
    {
     "data": {
      "text/plain": [
       "[<matplotlib.lines.Line2D at 0x21c841a67f0>]"
      ]
     },
     "execution_count": 48,
     "metadata": {},
     "output_type": "execute_result"
    },
    {
     "data": {
      "image/png": "[encoded data removed]",
      "text/plain": [
       "<Figure size 432x288 with 1 Axes>"
      ]
     },
     "metadata": {
      "needs_background": "light"
     },
     "output_type": "display_data"
    }
   ],
   "source": [
    "ft=FFT.fft(y)\n",
    "plt.plot(x,np.abs(ft))"
   ]
  },
  {
   "cell_type": "code",
   "execution_count": 49,
   "metadata": {},
   "outputs": [
    {
     "name": "stderr",
     "output_type": "stream",
     "text": [
      "C:\\Users\\Admin\\anaconda3\\lib\\site-packages\\numpy\\core\\_asarray.py:102: ComplexWarning: Casting complex values to real discards the imaginary part\n",
      "  return array(a, dtype, copy=False, order=order)\n"
     ]
    },
    {
     "data": {
      "text/plain": [
       "(-10.0, 10.0)"
      ]
     },
     "execution_count": 49,
     "metadata": {},
     "output_type": "execute_result"
    },
    {
     "data": {
      "image/png": "[encoded data removed]",
      "text/plain": [
       "<Figure size 432x288 with 1 Axes>"
      ]
     },
     "metadata": {
      "needs_background": "light"
     },
     "output_type": "display_data"
    }
   ],
   "source": [
    "dt=x[1]-x[0]\n",
    "ff=FFT.fftfreq(n1,dt)\n",
    "plt.plot(ff,ft)\n",
    "plt.xlim(-10,10)"
   ]
  },
  {
   "cell_type": "code",
   "execution_count": 54,
   "metadata": {},
   "outputs": [
    {
     "data": {
      "text/plain": [
       "[<matplotlib.lines.Line2D at 0x21c856f0a90>]"
      ]
     },
     "execution_count": 54,
     "metadata": {},
     "output_type": "execute_result"
    },
    {
     "data": {
      "image/png": "[encoded data removed]",
      "text/plain": [
       "<Figure size 432x288 with 1 Axes>"
      ]
     },
     "metadata": {
      "needs_background": "light"
     },
     "output_type": "display_data"
    }
   ],
   "source": [
    "y1=np.zeros(n1)\n",
    "y2=np.zeros(n1)\n",
    "T=2*np.pi\n",
    "w=(2*np.pi)/T\n",
    "\n",
    "for i in range(n1):\n",
    "    if i % 2 == 0: \n",
    "       y += np.abs(ft[i])*np.cos(i*x*w)\n",
    "    if i % 2 != 0:\n",
    "       y += np.abs(ft[i])*np.sin(i*x*w)\n",
    "      \n",
    "    \n",
    "plt.plot(x,y)\n"
   ]
  },
  {
   "cell_type": "code",
   "execution_count": null,
   "metadata": {},
   "outputs": [],
   "source": []
  }
 ],
 "metadata": {
  "kernelspec": {
   "display_name": "Python 3 (ipykernel)",
   "language": "python",
   "name": "python3"
  },
  "language_info": {
   "codemirror_mode": {
    "name": "ipython",
    "version": 3
   },
   "file_extension": ".py",
   "mimetype": "text/x-python",
   "name": "python",
   "nbconvert_exporter": "python",
   "pygments_lexer": "ipython3",
   "version": "3.8.11"
  }
 },
 "nbformat": 4,
 "nbformat_minor": 1
}
